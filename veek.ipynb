{
  "nbformat": 4,
  "nbformat_minor": 0,
  "metadata": {
    "colab": {
      "provenance": [],
      "authorship_tag": "ABX9TyPsA6Mah0sfg2+JVSBSv5u3"
    },
    "kernelspec": {
      "name": "python3",
      "display_name": "Python 3"
    },
    "language_info": {
      "name": "python"
    }
  },
  "cells": [
    {
      "cell_type": "code",
      "execution_count": 1,
      "metadata": {
        "id": "DM67SDsYjMUZ"
      },
      "outputs": [],
      "source": [
        "import pandas as pd\n",
        "import seaborn as sns\n",
        "import numpy as np\n"
      ]
    },
    {
      "cell_type": "code",
      "source": [
        "from google.colab import files\n",
        "uploaded =files.upload()"
      ],
      "metadata": {
        "colab": {
          "base_uri": "https://localhost:8080/",
          "height": 73
        },
        "id": "25Qk3AKCjsS4",
        "outputId": "769bbdc4-feeb-49fd-96c2-f27107500de1"
      },
      "execution_count": 4,
      "outputs": [
        {
          "output_type": "display_data",
          "data": {
            "text/plain": [
              "<IPython.core.display.HTML object>"
            ],
            "text/html": [
              "\n",
              "     <input type=\"file\" id=\"files-c4744ab2-2a58-4be0-a8e6-fb66f7977ad8\" name=\"files[]\" multiple disabled\n",
              "        style=\"border:none\" />\n",
              "     <output id=\"result-c4744ab2-2a58-4be0-a8e6-fb66f7977ad8\">\n",
              "      Upload widget is only available when the cell has been executed in the\n",
              "      current browser session. Please rerun this cell to enable.\n",
              "      </output>\n",
              "      <script>// Copyright 2017 Google LLC\n",
              "//\n",
              "// Licensed under the Apache License, Version 2.0 (the \"License\");\n",
              "// you may not use this file except in compliance with the License.\n",
              "// You may obtain a copy of the License at\n",
              "//\n",
              "//      http://www.apache.org/licenses/LICENSE-2.0\n",
              "//\n",
              "// Unless required by applicable law or agreed to in writing, software\n",
              "// distributed under the License is distributed on an \"AS IS\" BASIS,\n",
              "// WITHOUT WARRANTIES OR CONDITIONS OF ANY KIND, either express or implied.\n",
              "// See the License for the specific language governing permissions and\n",
              "// limitations under the License.\n",
              "\n",
              "/**\n",
              " * @fileoverview Helpers for google.colab Python module.\n",
              " */\n",
              "(function(scope) {\n",
              "function span(text, styleAttributes = {}) {\n",
              "  const element = document.createElement('span');\n",
              "  element.textContent = text;\n",
              "  for (const key of Object.keys(styleAttributes)) {\n",
              "    element.style[key] = styleAttributes[key];\n",
              "  }\n",
              "  return element;\n",
              "}\n",
              "\n",
              "// Max number of bytes which will be uploaded at a time.\n",
              "const MAX_PAYLOAD_SIZE = 100 * 1024;\n",
              "\n",
              "function _uploadFiles(inputId, outputId) {\n",
              "  const steps = uploadFilesStep(inputId, outputId);\n",
              "  const outputElement = document.getElementById(outputId);\n",
              "  // Cache steps on the outputElement to make it available for the next call\n",
              "  // to uploadFilesContinue from Python.\n",
              "  outputElement.steps = steps;\n",
              "\n",
              "  return _uploadFilesContinue(outputId);\n",
              "}\n",
              "\n",
              "// This is roughly an async generator (not supported in the browser yet),\n",
              "// where there are multiple asynchronous steps and the Python side is going\n",
              "// to poll for completion of each step.\n",
              "// This uses a Promise to block the python side on completion of each step,\n",
              "// then passes the result of the previous step as the input to the next step.\n",
              "function _uploadFilesContinue(outputId) {\n",
              "  const outputElement = document.getElementById(outputId);\n",
              "  const steps = outputElement.steps;\n",
              "\n",
              "  const next = steps.next(outputElement.lastPromiseValue);\n",
              "  return Promise.resolve(next.value.promise).then((value) => {\n",
              "    // Cache the last promise value to make it available to the next\n",
              "    // step of the generator.\n",
              "    outputElement.lastPromiseValue = value;\n",
              "    return next.value.response;\n",
              "  });\n",
              "}\n",
              "\n",
              "/**\n",
              " * Generator function which is called between each async step of the upload\n",
              " * process.\n",
              " * @param {string} inputId Element ID of the input file picker element.\n",
              " * @param {string} outputId Element ID of the output display.\n",
              " * @return {!Iterable<!Object>} Iterable of next steps.\n",
              " */\n",
              "function* uploadFilesStep(inputId, outputId) {\n",
              "  const inputElement = document.getElementById(inputId);\n",
              "  inputElement.disabled = false;\n",
              "\n",
              "  const outputElement = document.getElementById(outputId);\n",
              "  outputElement.innerHTML = '';\n",
              "\n",
              "  const pickedPromise = new Promise((resolve) => {\n",
              "    inputElement.addEventListener('change', (e) => {\n",
              "      resolve(e.target.files);\n",
              "    });\n",
              "  });\n",
              "\n",
              "  const cancel = document.createElement('button');\n",
              "  inputElement.parentElement.appendChild(cancel);\n",
              "  cancel.textContent = 'Cancel upload';\n",
              "  const cancelPromise = new Promise((resolve) => {\n",
              "    cancel.onclick = () => {\n",
              "      resolve(null);\n",
              "    };\n",
              "  });\n",
              "\n",
              "  // Wait for the user to pick the files.\n",
              "  const files = yield {\n",
              "    promise: Promise.race([pickedPromise, cancelPromise]),\n",
              "    response: {\n",
              "      action: 'starting',\n",
              "    }\n",
              "  };\n",
              "\n",
              "  cancel.remove();\n",
              "\n",
              "  // Disable the input element since further picks are not allowed.\n",
              "  inputElement.disabled = true;\n",
              "\n",
              "  if (!files) {\n",
              "    return {\n",
              "      response: {\n",
              "        action: 'complete',\n",
              "      }\n",
              "    };\n",
              "  }\n",
              "\n",
              "  for (const file of files) {\n",
              "    const li = document.createElement('li');\n",
              "    li.append(span(file.name, {fontWeight: 'bold'}));\n",
              "    li.append(span(\n",
              "        `(${file.type || 'n/a'}) - ${file.size} bytes, ` +\n",
              "        `last modified: ${\n",
              "            file.lastModifiedDate ? file.lastModifiedDate.toLocaleDateString() :\n",
              "                                    'n/a'} - `));\n",
              "    const percent = span('0% done');\n",
              "    li.appendChild(percent);\n",
              "\n",
              "    outputElement.appendChild(li);\n",
              "\n",
              "    const fileDataPromise = new Promise((resolve) => {\n",
              "      const reader = new FileReader();\n",
              "      reader.onload = (e) => {\n",
              "        resolve(e.target.result);\n",
              "      };\n",
              "      reader.readAsArrayBuffer(file);\n",
              "    });\n",
              "    // Wait for the data to be ready.\n",
              "    let fileData = yield {\n",
              "      promise: fileDataPromise,\n",
              "      response: {\n",
              "        action: 'continue',\n",
              "      }\n",
              "    };\n",
              "\n",
              "    // Use a chunked sending to avoid message size limits. See b/62115660.\n",
              "    let position = 0;\n",
              "    do {\n",
              "      const length = Math.min(fileData.byteLength - position, MAX_PAYLOAD_SIZE);\n",
              "      const chunk = new Uint8Array(fileData, position, length);\n",
              "      position += length;\n",
              "\n",
              "      const base64 = btoa(String.fromCharCode.apply(null, chunk));\n",
              "      yield {\n",
              "        response: {\n",
              "          action: 'append',\n",
              "          file: file.name,\n",
              "          data: base64,\n",
              "        },\n",
              "      };\n",
              "\n",
              "      let percentDone = fileData.byteLength === 0 ?\n",
              "          100 :\n",
              "          Math.round((position / fileData.byteLength) * 100);\n",
              "      percent.textContent = `${percentDone}% done`;\n",
              "\n",
              "    } while (position < fileData.byteLength);\n",
              "  }\n",
              "\n",
              "  // All done.\n",
              "  yield {\n",
              "    response: {\n",
              "      action: 'complete',\n",
              "    }\n",
              "  };\n",
              "}\n",
              "\n",
              "scope.google = scope.google || {};\n",
              "scope.google.colab = scope.google.colab || {};\n",
              "scope.google.colab._files = {\n",
              "  _uploadFiles,\n",
              "  _uploadFilesContinue,\n",
              "};\n",
              "})(self);\n",
              "</script> "
            ]
          },
          "metadata": {}
        },
        {
          "output_type": "stream",
          "name": "stdout",
          "text": [
            "Saving energydata_complete.csv to energydata_complete.csv\n"
          ]
        }
      ]
    },
    {
      "cell_type": "code",
      "source": [
        "nv = pd.read_csv('energydata_complete.csv')\n",
        "nv.head(10)"
      ],
      "metadata": {
        "colab": {
          "base_uri": "https://localhost:8080/",
          "height": 630
        },
        "id": "a7HJMqYALF6Q",
        "outputId": "a90e5213-8853-4eba-8975-6e0eb40980b4"
      },
      "execution_count": 7,
      "outputs": [
        {
          "output_type": "execute_result",
          "data": {
            "text/plain": [
              "                  date  Appliances  lights         T1       RH_1     T2  \\\n",
              "0  2016-01-11 17:00:00          60      30  19.890000  47.596667  19.20   \n",
              "1  2016-01-11 17:10:00          60      30  19.890000  46.693333  19.20   \n",
              "2  2016-01-11 17:20:00          50      30  19.890000  46.300000  19.20   \n",
              "3  2016-01-11 17:30:00          50      40  19.890000  46.066667  19.20   \n",
              "4  2016-01-11 17:40:00          60      40  19.890000  46.333333  19.20   \n",
              "5  2016-01-11 17:50:00          50      40  19.890000  46.026667  19.20   \n",
              "6  2016-01-11 18:00:00          60      50  19.890000  45.766667  19.20   \n",
              "7  2016-01-11 18:10:00          60      50  19.856667  45.560000  19.20   \n",
              "8  2016-01-11 18:20:00          60      40  19.790000  45.597500  19.20   \n",
              "9  2016-01-11 18:30:00          70      40  19.856667  46.090000  19.23   \n",
              "\n",
              "        RH_2     T3       RH_3         T4  ...         T9   RH_9     T_out  \\\n",
              "0  44.790000  19.79  44.730000  19.000000  ...  17.033333  45.53  6.600000   \n",
              "1  44.722500  19.79  44.790000  19.000000  ...  17.066667  45.56  6.483333   \n",
              "2  44.626667  19.79  44.933333  18.926667  ...  17.000000  45.50  6.366667   \n",
              "3  44.590000  19.79  45.000000  18.890000  ...  17.000000  45.40  6.250000   \n",
              "4  44.530000  19.79  45.000000  18.890000  ...  17.000000  45.40  6.133333   \n",
              "5  44.500000  19.79  44.933333  18.890000  ...  17.000000  45.29  6.016667   \n",
              "6  44.500000  19.79  44.900000  18.890000  ...  17.000000  45.29  5.900000   \n",
              "7  44.500000  19.73  44.900000  18.890000  ...  17.000000  45.29  5.916667   \n",
              "8  44.433333  19.73  44.790000  18.890000  ...  17.000000  45.29  5.933333   \n",
              "9  44.400000  19.79  44.863333  18.890000  ...  17.000000  45.29  5.950000   \n",
              "\n",
              "   Press_mm_hg     RH_out  Windspeed  Visibility  Tdewpoint        rv1  \\\n",
              "0   733.500000  92.000000   7.000000   63.000000   5.300000  13.275433   \n",
              "1   733.600000  92.000000   6.666667   59.166667   5.200000  18.606195   \n",
              "2   733.700000  92.000000   6.333333   55.333333   5.100000  28.642668   \n",
              "3   733.800000  92.000000   6.000000   51.500000   5.000000  45.410389   \n",
              "4   733.900000  92.000000   5.666667   47.666667   4.900000  10.084097   \n",
              "5   734.000000  92.000000   5.333333   43.833333   4.800000  44.919484   \n",
              "6   734.100000  92.000000   5.000000   40.000000   4.700000  47.233763   \n",
              "7   734.166667  91.833333   5.166667   40.000000   4.683333  33.039890   \n",
              "8   734.233333  91.666667   5.333333   40.000000   4.666667  31.455702   \n",
              "9   734.300000  91.500000   5.500000   40.000000   4.650000   3.089314   \n",
              "\n",
              "         rv2  \n",
              "0  13.275433  \n",
              "1  18.606195  \n",
              "2  28.642668  \n",
              "3  45.410389  \n",
              "4  10.084097  \n",
              "5  44.919484  \n",
              "6  47.233763  \n",
              "7  33.039890  \n",
              "8  31.455702  \n",
              "9   3.089314  \n",
              "\n",
              "[10 rows x 29 columns]"
            ],
            "text/html": [
              "\n",
              "  <div id=\"df-bbd7eea2-5d07-4c57-bc80-44aa242c171d\">\n",
              "    <div class=\"colab-df-container\">\n",
              "      <div>\n",
              "<style scoped>\n",
              "    .dataframe tbody tr th:only-of-type {\n",
              "        vertical-align: middle;\n",
              "    }\n",
              "\n",
              "    .dataframe tbody tr th {\n",
              "        vertical-align: top;\n",
              "    }\n",
              "\n",
              "    .dataframe thead th {\n",
              "        text-align: right;\n",
              "    }\n",
              "</style>\n",
              "<table border=\"1\" class=\"dataframe\">\n",
              "  <thead>\n",
              "    <tr style=\"text-align: right;\">\n",
              "      <th></th>\n",
              "      <th>date</th>\n",
              "      <th>Appliances</th>\n",
              "      <th>lights</th>\n",
              "      <th>T1</th>\n",
              "      <th>RH_1</th>\n",
              "      <th>T2</th>\n",
              "      <th>RH_2</th>\n",
              "      <th>T3</th>\n",
              "      <th>RH_3</th>\n",
              "      <th>T4</th>\n",
              "      <th>...</th>\n",
              "      <th>T9</th>\n",
              "      <th>RH_9</th>\n",
              "      <th>T_out</th>\n",
              "      <th>Press_mm_hg</th>\n",
              "      <th>RH_out</th>\n",
              "      <th>Windspeed</th>\n",
              "      <th>Visibility</th>\n",
              "      <th>Tdewpoint</th>\n",
              "      <th>rv1</th>\n",
              "      <th>rv2</th>\n",
              "    </tr>\n",
              "  </thead>\n",
              "  <tbody>\n",
              "    <tr>\n",
              "      <th>0</th>\n",
              "      <td>2016-01-11 17:00:00</td>\n",
              "      <td>60</td>\n",
              "      <td>30</td>\n",
              "      <td>19.890000</td>\n",
              "      <td>47.596667</td>\n",
              "      <td>19.20</td>\n",
              "      <td>44.790000</td>\n",
              "      <td>19.79</td>\n",
              "      <td>44.730000</td>\n",
              "      <td>19.000000</td>\n",
              "      <td>...</td>\n",
              "      <td>17.033333</td>\n",
              "      <td>45.53</td>\n",
              "      <td>6.600000</td>\n",
              "      <td>733.500000</td>\n",
              "      <td>92.000000</td>\n",
              "      <td>7.000000</td>\n",
              "      <td>63.000000</td>\n",
              "      <td>5.300000</td>\n",
              "      <td>13.275433</td>\n",
              "      <td>13.275433</td>\n",
              "    </tr>\n",
              "    <tr>\n",
              "      <th>1</th>\n",
              "      <td>2016-01-11 17:10:00</td>\n",
              "      <td>60</td>\n",
              "      <td>30</td>\n",
              "      <td>19.890000</td>\n",
              "      <td>46.693333</td>\n",
              "      <td>19.20</td>\n",
              "      <td>44.722500</td>\n",
              "      <td>19.79</td>\n",
              "      <td>44.790000</td>\n",
              "      <td>19.000000</td>\n",
              "      <td>...</td>\n",
              "      <td>17.066667</td>\n",
              "      <td>45.56</td>\n",
              "      <td>6.483333</td>\n",
              "      <td>733.600000</td>\n",
              "      <td>92.000000</td>\n",
              "      <td>6.666667</td>\n",
              "      <td>59.166667</td>\n",
              "      <td>5.200000</td>\n",
              "      <td>18.606195</td>\n",
              "      <td>18.606195</td>\n",
              "    </tr>\n",
              "    <tr>\n",
              "      <th>2</th>\n",
              "      <td>2016-01-11 17:20:00</td>\n",
              "      <td>50</td>\n",
              "      <td>30</td>\n",
              "      <td>19.890000</td>\n",
              "      <td>46.300000</td>\n",
              "      <td>19.20</td>\n",
              "      <td>44.626667</td>\n",
              "      <td>19.79</td>\n",
              "      <td>44.933333</td>\n",
              "      <td>18.926667</td>\n",
              "      <td>...</td>\n",
              "      <td>17.000000</td>\n",
              "      <td>45.50</td>\n",
              "      <td>6.366667</td>\n",
              "      <td>733.700000</td>\n",
              "      <td>92.000000</td>\n",
              "      <td>6.333333</td>\n",
              "      <td>55.333333</td>\n",
              "      <td>5.100000</td>\n",
              "      <td>28.642668</td>\n",
              "      <td>28.642668</td>\n",
              "    </tr>\n",
              "    <tr>\n",
              "      <th>3</th>\n",
              "      <td>2016-01-11 17:30:00</td>\n",
              "      <td>50</td>\n",
              "      <td>40</td>\n",
              "      <td>19.890000</td>\n",
              "      <td>46.066667</td>\n",
              "      <td>19.20</td>\n",
              "      <td>44.590000</td>\n",
              "      <td>19.79</td>\n",
              "      <td>45.000000</td>\n",
              "      <td>18.890000</td>\n",
              "      <td>...</td>\n",
              "      <td>17.000000</td>\n",
              "      <td>45.40</td>\n",
              "      <td>6.250000</td>\n",
              "      <td>733.800000</td>\n",
              "      <td>92.000000</td>\n",
              "      <td>6.000000</td>\n",
              "      <td>51.500000</td>\n",
              "      <td>5.000000</td>\n",
              "      <td>45.410389</td>\n",
              "      <td>45.410389</td>\n",
              "    </tr>\n",
              "    <tr>\n",
              "      <th>4</th>\n",
              "      <td>2016-01-11 17:40:00</td>\n",
              "      <td>60</td>\n",
              "      <td>40</td>\n",
              "      <td>19.890000</td>\n",
              "      <td>46.333333</td>\n",
              "      <td>19.20</td>\n",
              "      <td>44.530000</td>\n",
              "      <td>19.79</td>\n",
              "      <td>45.000000</td>\n",
              "      <td>18.890000</td>\n",
              "      <td>...</td>\n",
              "      <td>17.000000</td>\n",
              "      <td>45.40</td>\n",
              "      <td>6.133333</td>\n",
              "      <td>733.900000</td>\n",
              "      <td>92.000000</td>\n",
              "      <td>5.666667</td>\n",
              "      <td>47.666667</td>\n",
              "      <td>4.900000</td>\n",
              "      <td>10.084097</td>\n",
              "      <td>10.084097</td>\n",
              "    </tr>\n",
              "    <tr>\n",
              "      <th>5</th>\n",
              "      <td>2016-01-11 17:50:00</td>\n",
              "      <td>50</td>\n",
              "      <td>40</td>\n",
              "      <td>19.890000</td>\n",
              "      <td>46.026667</td>\n",
              "      <td>19.20</td>\n",
              "      <td>44.500000</td>\n",
              "      <td>19.79</td>\n",
              "      <td>44.933333</td>\n",
              "      <td>18.890000</td>\n",
              "      <td>...</td>\n",
              "      <td>17.000000</td>\n",
              "      <td>45.29</td>\n",
              "      <td>6.016667</td>\n",
              "      <td>734.000000</td>\n",
              "      <td>92.000000</td>\n",
              "      <td>5.333333</td>\n",
              "      <td>43.833333</td>\n",
              "      <td>4.800000</td>\n",
              "      <td>44.919484</td>\n",
              "      <td>44.919484</td>\n",
              "    </tr>\n",
              "    <tr>\n",
              "      <th>6</th>\n",
              "      <td>2016-01-11 18:00:00</td>\n",
              "      <td>60</td>\n",
              "      <td>50</td>\n",
              "      <td>19.890000</td>\n",
              "      <td>45.766667</td>\n",
              "      <td>19.20</td>\n",
              "      <td>44.500000</td>\n",
              "      <td>19.79</td>\n",
              "      <td>44.900000</td>\n",
              "      <td>18.890000</td>\n",
              "      <td>...</td>\n",
              "      <td>17.000000</td>\n",
              "      <td>45.29</td>\n",
              "      <td>5.900000</td>\n",
              "      <td>734.100000</td>\n",
              "      <td>92.000000</td>\n",
              "      <td>5.000000</td>\n",
              "      <td>40.000000</td>\n",
              "      <td>4.700000</td>\n",
              "      <td>47.233763</td>\n",
              "      <td>47.233763</td>\n",
              "    </tr>\n",
              "    <tr>\n",
              "      <th>7</th>\n",
              "      <td>2016-01-11 18:10:00</td>\n",
              "      <td>60</td>\n",
              "      <td>50</td>\n",
              "      <td>19.856667</td>\n",
              "      <td>45.560000</td>\n",
              "      <td>19.20</td>\n",
              "      <td>44.500000</td>\n",
              "      <td>19.73</td>\n",
              "      <td>44.900000</td>\n",
              "      <td>18.890000</td>\n",
              "      <td>...</td>\n",
              "      <td>17.000000</td>\n",
              "      <td>45.29</td>\n",
              "      <td>5.916667</td>\n",
              "      <td>734.166667</td>\n",
              "      <td>91.833333</td>\n",
              "      <td>5.166667</td>\n",
              "      <td>40.000000</td>\n",
              "      <td>4.683333</td>\n",
              "      <td>33.039890</td>\n",
              "      <td>33.039890</td>\n",
              "    </tr>\n",
              "    <tr>\n",
              "      <th>8</th>\n",
              "      <td>2016-01-11 18:20:00</td>\n",
              "      <td>60</td>\n",
              "      <td>40</td>\n",
              "      <td>19.790000</td>\n",
              "      <td>45.597500</td>\n",
              "      <td>19.20</td>\n",
              "      <td>44.433333</td>\n",
              "      <td>19.73</td>\n",
              "      <td>44.790000</td>\n",
              "      <td>18.890000</td>\n",
              "      <td>...</td>\n",
              "      <td>17.000000</td>\n",
              "      <td>45.29</td>\n",
              "      <td>5.933333</td>\n",
              "      <td>734.233333</td>\n",
              "      <td>91.666667</td>\n",
              "      <td>5.333333</td>\n",
              "      <td>40.000000</td>\n",
              "      <td>4.666667</td>\n",
              "      <td>31.455702</td>\n",
              "      <td>31.455702</td>\n",
              "    </tr>\n",
              "    <tr>\n",
              "      <th>9</th>\n",
              "      <td>2016-01-11 18:30:00</td>\n",
              "      <td>70</td>\n",
              "      <td>40</td>\n",
              "      <td>19.856667</td>\n",
              "      <td>46.090000</td>\n",
              "      <td>19.23</td>\n",
              "      <td>44.400000</td>\n",
              "      <td>19.79</td>\n",
              "      <td>44.863333</td>\n",
              "      <td>18.890000</td>\n",
              "      <td>...</td>\n",
              "      <td>17.000000</td>\n",
              "      <td>45.29</td>\n",
              "      <td>5.950000</td>\n",
              "      <td>734.300000</td>\n",
              "      <td>91.500000</td>\n",
              "      <td>5.500000</td>\n",
              "      <td>40.000000</td>\n",
              "      <td>4.650000</td>\n",
              "      <td>3.089314</td>\n",
              "      <td>3.089314</td>\n",
              "    </tr>\n",
              "  </tbody>\n",
              "</table>\n",
              "<p>10 rows × 29 columns</p>\n",
              "</div>\n",
              "      <button class=\"colab-df-convert\" onclick=\"convertToInteractive('df-bbd7eea2-5d07-4c57-bc80-44aa242c171d')\"\n",
              "              title=\"Convert this dataframe to an interactive table.\"\n",
              "              style=\"display:none;\">\n",
              "        \n",
              "  <svg xmlns=\"http://www.w3.org/2000/svg\" height=\"24px\"viewBox=\"0 0 24 24\"\n",
              "       width=\"24px\">\n",
              "    <path d=\"M0 0h24v24H0V0z\" fill=\"none\"/>\n",
              "    <path d=\"M18.56 5.44l.94 2.06.94-2.06 2.06-.94-2.06-.94-.94-2.06-.94 2.06-2.06.94zm-11 1L8.5 8.5l.94-2.06 2.06-.94-2.06-.94L8.5 2.5l-.94 2.06-2.06.94zm10 10l.94 2.06.94-2.06 2.06-.94-2.06-.94-.94-2.06-.94 2.06-2.06.94z\"/><path d=\"M17.41 7.96l-1.37-1.37c-.4-.4-.92-.59-1.43-.59-.52 0-1.04.2-1.43.59L10.3 9.45l-7.72 7.72c-.78.78-.78 2.05 0 2.83L4 21.41c.39.39.9.59 1.41.59.51 0 1.02-.2 1.41-.59l7.78-7.78 2.81-2.81c.8-.78.8-2.07 0-2.86zM5.41 20L4 18.59l7.72-7.72 1.47 1.35L5.41 20z\"/>\n",
              "  </svg>\n",
              "      </button>\n",
              "      \n",
              "  <style>\n",
              "    .colab-df-container {\n",
              "      display:flex;\n",
              "      flex-wrap:wrap;\n",
              "      gap: 12px;\n",
              "    }\n",
              "\n",
              "    .colab-df-convert {\n",
              "      background-color: #E8F0FE;\n",
              "      border: none;\n",
              "      border-radius: 50%;\n",
              "      cursor: pointer;\n",
              "      display: none;\n",
              "      fill: #1967D2;\n",
              "      height: 32px;\n",
              "      padding: 0 0 0 0;\n",
              "      width: 32px;\n",
              "    }\n",
              "\n",
              "    .colab-df-convert:hover {\n",
              "      background-color: #E2EBFA;\n",
              "      box-shadow: 0px 1px 2px rgba(60, 64, 67, 0.3), 0px 1px 3px 1px rgba(60, 64, 67, 0.15);\n",
              "      fill: #174EA6;\n",
              "    }\n",
              "\n",
              "    [theme=dark] .colab-df-convert {\n",
              "      background-color: #3B4455;\n",
              "      fill: #D2E3FC;\n",
              "    }\n",
              "\n",
              "    [theme=dark] .colab-df-convert:hover {\n",
              "      background-color: #434B5C;\n",
              "      box-shadow: 0px 1px 3px 1px rgba(0, 0, 0, 0.15);\n",
              "      filter: drop-shadow(0px 1px 2px rgba(0, 0, 0, 0.3));\n",
              "      fill: #FFFFFF;\n",
              "    }\n",
              "  </style>\n",
              "\n",
              "      <script>\n",
              "        const buttonEl =\n",
              "          document.querySelector('#df-bbd7eea2-5d07-4c57-bc80-44aa242c171d button.colab-df-convert');\n",
              "        buttonEl.style.display =\n",
              "          google.colab.kernel.accessAllowed ? 'block' : 'none';\n",
              "\n",
              "        async function convertToInteractive(key) {\n",
              "          const element = document.querySelector('#df-bbd7eea2-5d07-4c57-bc80-44aa242c171d');\n",
              "          const dataTable =\n",
              "            await google.colab.kernel.invokeFunction('convertToInteractive',\n",
              "                                                     [key], {});\n",
              "          if (!dataTable) return;\n",
              "\n",
              "          const docLinkHtml = 'Like what you see? Visit the ' +\n",
              "            '<a target=\"_blank\" href=https://colab.research.google.com/notebooks/data_table.ipynb>data table notebook</a>'\n",
              "            + ' to learn more about interactive tables.';\n",
              "          element.innerHTML = '';\n",
              "          dataTable['output_type'] = 'display_data';\n",
              "          await google.colab.output.renderOutput(dataTable, element);\n",
              "          const docLink = document.createElement('div');\n",
              "          docLink.innerHTML = docLinkHtml;\n",
              "          element.appendChild(docLink);\n",
              "        }\n",
              "      </script>\n",
              "    </div>\n",
              "  </div>\n",
              "  "
            ]
          },
          "metadata": {},
          "execution_count": 7
        }
      ]
    },
    {
      "cell_type": "code",
      "source": [
        "nv.columns"
      ],
      "metadata": {
        "colab": {
          "base_uri": "https://localhost:8080/"
        },
        "id": "ndoX9ozHpjcf",
        "outputId": "5c716b72-0b89-4128-cf4c-9825e6f3a95e"
      },
      "execution_count": 9,
      "outputs": [
        {
          "output_type": "execute_result",
          "data": {
            "text/plain": [
              "Index(['date', 'Appliances', 'lights', 'T1', 'RH_1', 'T2', 'RH_2', 'T3',\n",
              "       'RH_3', 'T4', 'RH_4', 'T5', 'RH_5', 'T6', 'RH_6', 'T7', 'RH_7', 'T8',\n",
              "       'RH_8', 'T9', 'RH_9', 'T_out', 'Press_mm_hg', 'RH_out', 'Windspeed',\n",
              "       'Visibility', 'Tdewpoint', 'rv1', 'rv2'],\n",
              "      dtype='object')"
            ]
          },
          "metadata": {},
          "execution_count": 9
        }
      ]
    },
    {
      "cell_type": "code",
      "source": [
        "nv.shape"
      ],
      "metadata": {
        "colab": {
          "base_uri": "https://localhost:8080/"
        },
        "id": "hov-w6tMp3kf",
        "outputId": "6a217edd-28b0-41bc-fbde-5b8b0334be46"
      },
      "execution_count": 10,
      "outputs": [
        {
          "output_type": "execute_result",
          "data": {
            "text/plain": [
              "(19735, 29)"
            ]
          },
          "metadata": {},
          "execution_count": 10
        }
      ]
    },
    {
      "cell_type": "code",
      "source": [
        "nv.isnull().sum()"
      ],
      "metadata": {
        "colab": {
          "base_uri": "https://localhost:8080/"
        },
        "id": "VgnG56TjqAMa",
        "outputId": "9bfbcf97-21da-4b1d-c0b4-b698c270fe94"
      },
      "execution_count": 13,
      "outputs": [
        {
          "output_type": "execute_result",
          "data": {
            "text/plain": [
              "date           0\n",
              "Appliances     0\n",
              "lights         0\n",
              "T1             0\n",
              "RH_1           0\n",
              "T2             0\n",
              "RH_2           0\n",
              "T3             0\n",
              "RH_3           0\n",
              "T4             0\n",
              "RH_4           0\n",
              "T5             0\n",
              "RH_5           0\n",
              "T6             0\n",
              "RH_6           0\n",
              "T7             0\n",
              "RH_7           0\n",
              "T8             0\n",
              "RH_8           0\n",
              "T9             0\n",
              "RH_9           0\n",
              "T_out          0\n",
              "Press_mm_hg    0\n",
              "RH_out         0\n",
              "Windspeed      0\n",
              "Visibility     0\n",
              "Tdewpoint      0\n",
              "rv1            0\n",
              "rv2            0\n",
              "dtype: int64"
            ]
          },
          "metadata": {},
          "execution_count": 13
        }
      ]
    },
    {
      "cell_type": "code",
      "source": [
        "nv.info()"
      ],
      "metadata": {
        "colab": {
          "base_uri": "https://localhost:8080/"
        },
        "id": "g8KQEJbFqp9O",
        "outputId": "5fb40049-5409-4347-dc1e-27310bb23dfa"
      },
      "execution_count": 14,
      "outputs": [
        {
          "output_type": "stream",
          "name": "stdout",
          "text": [
            "<class 'pandas.core.frame.DataFrame'>\n",
            "RangeIndex: 19735 entries, 0 to 19734\n",
            "Data columns (total 29 columns):\n",
            " #   Column       Non-Null Count  Dtype  \n",
            "---  ------       --------------  -----  \n",
            " 0   date         19735 non-null  object \n",
            " 1   Appliances   19735 non-null  int64  \n",
            " 2   lights       19735 non-null  int64  \n",
            " 3   T1           19735 non-null  float64\n",
            " 4   RH_1         19735 non-null  float64\n",
            " 5   T2           19735 non-null  float64\n",
            " 6   RH_2         19735 non-null  float64\n",
            " 7   T3           19735 non-null  float64\n",
            " 8   RH_3         19735 non-null  float64\n",
            " 9   T4           19735 non-null  float64\n",
            " 10  RH_4         19735 non-null  float64\n",
            " 11  T5           19735 non-null  float64\n",
            " 12  RH_5         19735 non-null  float64\n",
            " 13  T6           19735 non-null  float64\n",
            " 14  RH_6         19735 non-null  float64\n",
            " 15  T7           19735 non-null  float64\n",
            " 16  RH_7         19735 non-null  float64\n",
            " 17  T8           19735 non-null  float64\n",
            " 18  RH_8         19735 non-null  float64\n",
            " 19  T9           19735 non-null  float64\n",
            " 20  RH_9         19735 non-null  float64\n",
            " 21  T_out        19735 non-null  float64\n",
            " 22  Press_mm_hg  19735 non-null  float64\n",
            " 23  RH_out       19735 non-null  float64\n",
            " 24  Windspeed    19735 non-null  float64\n",
            " 25  Visibility   19735 non-null  float64\n",
            " 26  Tdewpoint    19735 non-null  float64\n",
            " 27  rv1          19735 non-null  float64\n",
            " 28  rv2          19735 non-null  float64\n",
            "dtypes: float64(26), int64(2), object(1)\n",
            "memory usage: 4.4+ MB\n"
          ]
        }
      ]
    },
    {
      "cell_type": "code",
      "source": [
        "nv1 = nv[['T2', 'T6']]\n",
        "nv1.head(10)"
      ],
      "metadata": {
        "colab": {
          "base_uri": "https://localhost:8080/",
          "height": 363
        },
        "id": "E4Nr_qZPq3Dp",
        "outputId": "494cc0ec-40bb-41d2-9c09-57470c22ee96"
      },
      "execution_count": 22,
      "outputs": [
        {
          "output_type": "execute_result",
          "data": {
            "text/plain": [
              "      T2        T6\n",
              "0  19.20  7.026667\n",
              "1  19.20  6.833333\n",
              "2  19.20  6.560000\n",
              "3  19.20  6.433333\n",
              "4  19.20  6.366667\n",
              "5  19.20  6.300000\n",
              "6  19.20  6.263333\n",
              "7  19.20  6.190000\n",
              "8  19.20  6.123333\n",
              "9  19.23  6.190000"
            ],
            "text/html": [
              "\n",
              "  <div id=\"df-f1869890-f9b7-43cc-bf67-291b0fbf4b87\">\n",
              "    <div class=\"colab-df-container\">\n",
              "      <div>\n",
              "<style scoped>\n",
              "    .dataframe tbody tr th:only-of-type {\n",
              "        vertical-align: middle;\n",
              "    }\n",
              "\n",
              "    .dataframe tbody tr th {\n",
              "        vertical-align: top;\n",
              "    }\n",
              "\n",
              "    .dataframe thead th {\n",
              "        text-align: right;\n",
              "    }\n",
              "</style>\n",
              "<table border=\"1\" class=\"dataframe\">\n",
              "  <thead>\n",
              "    <tr style=\"text-align: right;\">\n",
              "      <th></th>\n",
              "      <th>T2</th>\n",
              "      <th>T6</th>\n",
              "    </tr>\n",
              "  </thead>\n",
              "  <tbody>\n",
              "    <tr>\n",
              "      <th>0</th>\n",
              "      <td>19.20</td>\n",
              "      <td>7.026667</td>\n",
              "    </tr>\n",
              "    <tr>\n",
              "      <th>1</th>\n",
              "      <td>19.20</td>\n",
              "      <td>6.833333</td>\n",
              "    </tr>\n",
              "    <tr>\n",
              "      <th>2</th>\n",
              "      <td>19.20</td>\n",
              "      <td>6.560000</td>\n",
              "    </tr>\n",
              "    <tr>\n",
              "      <th>3</th>\n",
              "      <td>19.20</td>\n",
              "      <td>6.433333</td>\n",
              "    </tr>\n",
              "    <tr>\n",
              "      <th>4</th>\n",
              "      <td>19.20</td>\n",
              "      <td>6.366667</td>\n",
              "    </tr>\n",
              "    <tr>\n",
              "      <th>5</th>\n",
              "      <td>19.20</td>\n",
              "      <td>6.300000</td>\n",
              "    </tr>\n",
              "    <tr>\n",
              "      <th>6</th>\n",
              "      <td>19.20</td>\n",
              "      <td>6.263333</td>\n",
              "    </tr>\n",
              "    <tr>\n",
              "      <th>7</th>\n",
              "      <td>19.20</td>\n",
              "      <td>6.190000</td>\n",
              "    </tr>\n",
              "    <tr>\n",
              "      <th>8</th>\n",
              "      <td>19.20</td>\n",
              "      <td>6.123333</td>\n",
              "    </tr>\n",
              "    <tr>\n",
              "      <th>9</th>\n",
              "      <td>19.23</td>\n",
              "      <td>6.190000</td>\n",
              "    </tr>\n",
              "  </tbody>\n",
              "</table>\n",
              "</div>\n",
              "      <button class=\"colab-df-convert\" onclick=\"convertToInteractive('df-f1869890-f9b7-43cc-bf67-291b0fbf4b87')\"\n",
              "              title=\"Convert this dataframe to an interactive table.\"\n",
              "              style=\"display:none;\">\n",
              "        \n",
              "  <svg xmlns=\"http://www.w3.org/2000/svg\" height=\"24px\"viewBox=\"0 0 24 24\"\n",
              "       width=\"24px\">\n",
              "    <path d=\"M0 0h24v24H0V0z\" fill=\"none\"/>\n",
              "    <path d=\"M18.56 5.44l.94 2.06.94-2.06 2.06-.94-2.06-.94-.94-2.06-.94 2.06-2.06.94zm-11 1L8.5 8.5l.94-2.06 2.06-.94-2.06-.94L8.5 2.5l-.94 2.06-2.06.94zm10 10l.94 2.06.94-2.06 2.06-.94-2.06-.94-.94-2.06-.94 2.06-2.06.94z\"/><path d=\"M17.41 7.96l-1.37-1.37c-.4-.4-.92-.59-1.43-.59-.52 0-1.04.2-1.43.59L10.3 9.45l-7.72 7.72c-.78.78-.78 2.05 0 2.83L4 21.41c.39.39.9.59 1.41.59.51 0 1.02-.2 1.41-.59l7.78-7.78 2.81-2.81c.8-.78.8-2.07 0-2.86zM5.41 20L4 18.59l7.72-7.72 1.47 1.35L5.41 20z\"/>\n",
              "  </svg>\n",
              "      </button>\n",
              "      \n",
              "  <style>\n",
              "    .colab-df-container {\n",
              "      display:flex;\n",
              "      flex-wrap:wrap;\n",
              "      gap: 12px;\n",
              "    }\n",
              "\n",
              "    .colab-df-convert {\n",
              "      background-color: #E8F0FE;\n",
              "      border: none;\n",
              "      border-radius: 50%;\n",
              "      cursor: pointer;\n",
              "      display: none;\n",
              "      fill: #1967D2;\n",
              "      height: 32px;\n",
              "      padding: 0 0 0 0;\n",
              "      width: 32px;\n",
              "    }\n",
              "\n",
              "    .colab-df-convert:hover {\n",
              "      background-color: #E2EBFA;\n",
              "      box-shadow: 0px 1px 2px rgba(60, 64, 67, 0.3), 0px 1px 3px 1px rgba(60, 64, 67, 0.15);\n",
              "      fill: #174EA6;\n",
              "    }\n",
              "\n",
              "    [theme=dark] .colab-df-convert {\n",
              "      background-color: #3B4455;\n",
              "      fill: #D2E3FC;\n",
              "    }\n",
              "\n",
              "    [theme=dark] .colab-df-convert:hover {\n",
              "      background-color: #434B5C;\n",
              "      box-shadow: 0px 1px 3px 1px rgba(0, 0, 0, 0.15);\n",
              "      filter: drop-shadow(0px 1px 2px rgba(0, 0, 0, 0.3));\n",
              "      fill: #FFFFFF;\n",
              "    }\n",
              "  </style>\n",
              "\n",
              "      <script>\n",
              "        const buttonEl =\n",
              "          document.querySelector('#df-f1869890-f9b7-43cc-bf67-291b0fbf4b87 button.colab-df-convert');\n",
              "        buttonEl.style.display =\n",
              "          google.colab.kernel.accessAllowed ? 'block' : 'none';\n",
              "\n",
              "        async function convertToInteractive(key) {\n",
              "          const element = document.querySelector('#df-f1869890-f9b7-43cc-bf67-291b0fbf4b87');\n",
              "          const dataTable =\n",
              "            await google.colab.kernel.invokeFunction('convertToInteractive',\n",
              "                                                     [key], {});\n",
              "          if (!dataTable) return;\n",
              "\n",
              "          const docLinkHtml = 'Like what you see? Visit the ' +\n",
              "            '<a target=\"_blank\" href=https://colab.research.google.com/notebooks/data_table.ipynb>data table notebook</a>'\n",
              "            + ' to learn more about interactive tables.';\n",
              "          element.innerHTML = '';\n",
              "          dataTable['output_type'] = 'display_data';\n",
              "          await google.colab.output.renderOutput(dataTable, element);\n",
              "          const docLink = document.createElement('div');\n",
              "          docLink.innerHTML = docLinkHtml;\n",
              "          element.appendChild(docLink);\n",
              "        }\n",
              "      </script>\n",
              "    </div>\n",
              "  </div>\n",
              "  "
            ]
          },
          "metadata": {},
          "execution_count": 22
        }
      ]
    },
    {
      "cell_type": "markdown",
      "source": [
        "#answer to number 12"
      ],
      "metadata": {
        "id": "TnlffyWfuxCJ"
      }
    },
    {
      "cell_type": "code",
      "source": [
        "x = nv1[['T2']]\n",
        "y = nv1['T6']"
      ],
      "metadata": {
        "id": "pVaV3phku5pv"
      },
      "execution_count": 23,
      "outputs": []
    },
    {
      "cell_type": "markdown",
      "source": [
        "#to import linear regression"
      ],
      "metadata": {
        "id": "CtIkWL7evvRZ"
      }
    },
    {
      "cell_type": "code",
      "source": [
        "from sklearn.linear_model import LinearRegression"
      ],
      "metadata": {
        "id": "0LZsOL7pwgXd"
      },
      "execution_count": 25,
      "outputs": []
    },
    {
      "cell_type": "code",
      "source": [
        "linear_model = LinearRegression()\n",
        "#fix the model to the training dataset\n",
        "linear_model.fit(x,y)"
      ],
      "metadata": {
        "colab": {
          "base_uri": "https://localhost:8080/"
        },
        "id": "ESk0RVhnxUNo",
        "outputId": "3a9ad993-24ef-4b0a-c288-57ff260a9ab6"
      },
      "execution_count": 27,
      "outputs": [
        {
          "output_type": "execute_result",
          "data": {
            "text/plain": [
              "LinearRegression()"
            ]
          },
          "metadata": {},
          "execution_count": 27
        }
      ]
    },
    {
      "cell_type": "code",
      "source": [
        "#make prediction\n",
        "y_preds = linear_model.predict(x)\n",
        "y_preds"
      ],
      "metadata": {
        "colab": {
          "base_uri": "https://localhost:8080/"
        },
        "id": "atwWxMXKxts8",
        "outputId": "5f1e0549-44c0-4828-ecf4-6b8ccd95748c"
      },
      "execution_count": 29,
      "outputs": [
        {
          "output_type": "execute_result",
          "data": {
            "text/plain": [
              "array([ 5.37165597,  5.37165597,  5.37165597, ..., 19.67562202,\n",
              "       19.19818742, 18.86506395])"
            ]
          },
          "metadata": {},
          "execution_count": 29
        }
      ]
    },
    {
      "cell_type": "markdown",
      "source": [
        "#find r2 value"
      ],
      "metadata": {
        "id": "6Ct9JVyDycSA"
      }
    },
    {
      "cell_type": "code",
      "source": [
        "from sklearn.metrics import r2_score"
      ],
      "metadata": {
        "id": "Lugepi3UyZ7j"
      },
      "execution_count": 31,
      "outputs": []
    },
    {
      "cell_type": "code",
      "source": [
        "r2_score(y, y_preds).round(2)"
      ],
      "metadata": {
        "colab": {
          "base_uri": "https://localhost:8080/"
        },
        "id": "oTFOEvRsy5rz",
        "outputId": "35c35ae3-6e1c-4e9b-b91f-44fd38b0818b"
      },
      "execution_count": 41,
      "outputs": [
        {
          "output_type": "execute_result",
          "data": {
            "text/plain": [
              "0.64"
            ]
          },
          "metadata": {},
          "execution_count": 41
        }
      ]
    },
    {
      "cell_type": "markdown",
      "source": [
        "#round up to 2 decimal place"
      ],
      "metadata": {
        "id": "BGZgI9jZzkN-"
      }
    },
    {
      "cell_type": "code",
      "source": [
        "nv2 = nv.drop(columns = ['date', 'lights'])\n",
        "nv2.head(3)"
      ],
      "metadata": {
        "colab": {
          "base_uri": "https://localhost:8080/",
          "height": 237
        },
        "id": "ZjtnXduq1Sut",
        "outputId": "7fdabc18-9b0c-49ab-d8cb-15ee4aed88b3"
      },
      "execution_count": 42,
      "outputs": [
        {
          "output_type": "execute_result",
          "data": {
            "text/plain": [
              "   Appliances     T1       RH_1    T2       RH_2     T3       RH_3         T4  \\\n",
              "0          60  19.89  47.596667  19.2  44.790000  19.79  44.730000  19.000000   \n",
              "1          60  19.89  46.693333  19.2  44.722500  19.79  44.790000  19.000000   \n",
              "2          50  19.89  46.300000  19.2  44.626667  19.79  44.933333  18.926667   \n",
              "\n",
              "        RH_4         T5  ...         T9   RH_9     T_out  Press_mm_hg  RH_out  \\\n",
              "0  45.566667  17.166667  ...  17.033333  45.53  6.600000        733.5    92.0   \n",
              "1  45.992500  17.166667  ...  17.066667  45.56  6.483333        733.6    92.0   \n",
              "2  45.890000  17.166667  ...  17.000000  45.50  6.366667        733.7    92.0   \n",
              "\n",
              "   Windspeed  Visibility  Tdewpoint        rv1        rv2  \n",
              "0   7.000000   63.000000        5.3  13.275433  13.275433  \n",
              "1   6.666667   59.166667        5.2  18.606195  18.606195  \n",
              "2   6.333333   55.333333        5.1  28.642668  28.642668  \n",
              "\n",
              "[3 rows x 27 columns]"
            ],
            "text/html": [
              "\n",
              "  <div id=\"df-366a5468-9819-4300-8b83-130f87434576\">\n",
              "    <div class=\"colab-df-container\">\n",
              "      <div>\n",
              "<style scoped>\n",
              "    .dataframe tbody tr th:only-of-type {\n",
              "        vertical-align: middle;\n",
              "    }\n",
              "\n",
              "    .dataframe tbody tr th {\n",
              "        vertical-align: top;\n",
              "    }\n",
              "\n",
              "    .dataframe thead th {\n",
              "        text-align: right;\n",
              "    }\n",
              "</style>\n",
              "<table border=\"1\" class=\"dataframe\">\n",
              "  <thead>\n",
              "    <tr style=\"text-align: right;\">\n",
              "      <th></th>\n",
              "      <th>Appliances</th>\n",
              "      <th>T1</th>\n",
              "      <th>RH_1</th>\n",
              "      <th>T2</th>\n",
              "      <th>RH_2</th>\n",
              "      <th>T3</th>\n",
              "      <th>RH_3</th>\n",
              "      <th>T4</th>\n",
              "      <th>RH_4</th>\n",
              "      <th>T5</th>\n",
              "      <th>...</th>\n",
              "      <th>T9</th>\n",
              "      <th>RH_9</th>\n",
              "      <th>T_out</th>\n",
              "      <th>Press_mm_hg</th>\n",
              "      <th>RH_out</th>\n",
              "      <th>Windspeed</th>\n",
              "      <th>Visibility</th>\n",
              "      <th>Tdewpoint</th>\n",
              "      <th>rv1</th>\n",
              "      <th>rv2</th>\n",
              "    </tr>\n",
              "  </thead>\n",
              "  <tbody>\n",
              "    <tr>\n",
              "      <th>0</th>\n",
              "      <td>60</td>\n",
              "      <td>19.89</td>\n",
              "      <td>47.596667</td>\n",
              "      <td>19.2</td>\n",
              "      <td>44.790000</td>\n",
              "      <td>19.79</td>\n",
              "      <td>44.730000</td>\n",
              "      <td>19.000000</td>\n",
              "      <td>45.566667</td>\n",
              "      <td>17.166667</td>\n",
              "      <td>...</td>\n",
              "      <td>17.033333</td>\n",
              "      <td>45.53</td>\n",
              "      <td>6.600000</td>\n",
              "      <td>733.5</td>\n",
              "      <td>92.0</td>\n",
              "      <td>7.000000</td>\n",
              "      <td>63.000000</td>\n",
              "      <td>5.3</td>\n",
              "      <td>13.275433</td>\n",
              "      <td>13.275433</td>\n",
              "    </tr>\n",
              "    <tr>\n",
              "      <th>1</th>\n",
              "      <td>60</td>\n",
              "      <td>19.89</td>\n",
              "      <td>46.693333</td>\n",
              "      <td>19.2</td>\n",
              "      <td>44.722500</td>\n",
              "      <td>19.79</td>\n",
              "      <td>44.790000</td>\n",
              "      <td>19.000000</td>\n",
              "      <td>45.992500</td>\n",
              "      <td>17.166667</td>\n",
              "      <td>...</td>\n",
              "      <td>17.066667</td>\n",
              "      <td>45.56</td>\n",
              "      <td>6.483333</td>\n",
              "      <td>733.6</td>\n",
              "      <td>92.0</td>\n",
              "      <td>6.666667</td>\n",
              "      <td>59.166667</td>\n",
              "      <td>5.2</td>\n",
              "      <td>18.606195</td>\n",
              "      <td>18.606195</td>\n",
              "    </tr>\n",
              "    <tr>\n",
              "      <th>2</th>\n",
              "      <td>50</td>\n",
              "      <td>19.89</td>\n",
              "      <td>46.300000</td>\n",
              "      <td>19.2</td>\n",
              "      <td>44.626667</td>\n",
              "      <td>19.79</td>\n",
              "      <td>44.933333</td>\n",
              "      <td>18.926667</td>\n",
              "      <td>45.890000</td>\n",
              "      <td>17.166667</td>\n",
              "      <td>...</td>\n",
              "      <td>17.000000</td>\n",
              "      <td>45.50</td>\n",
              "      <td>6.366667</td>\n",
              "      <td>733.7</td>\n",
              "      <td>92.0</td>\n",
              "      <td>6.333333</td>\n",
              "      <td>55.333333</td>\n",
              "      <td>5.1</td>\n",
              "      <td>28.642668</td>\n",
              "      <td>28.642668</td>\n",
              "    </tr>\n",
              "  </tbody>\n",
              "</table>\n",
              "<p>3 rows × 27 columns</p>\n",
              "</div>\n",
              "      <button class=\"colab-df-convert\" onclick=\"convertToInteractive('df-366a5468-9819-4300-8b83-130f87434576')\"\n",
              "              title=\"Convert this dataframe to an interactive table.\"\n",
              "              style=\"display:none;\">\n",
              "        \n",
              "  <svg xmlns=\"http://www.w3.org/2000/svg\" height=\"24px\"viewBox=\"0 0 24 24\"\n",
              "       width=\"24px\">\n",
              "    <path d=\"M0 0h24v24H0V0z\" fill=\"none\"/>\n",
              "    <path d=\"M18.56 5.44l.94 2.06.94-2.06 2.06-.94-2.06-.94-.94-2.06-.94 2.06-2.06.94zm-11 1L8.5 8.5l.94-2.06 2.06-.94-2.06-.94L8.5 2.5l-.94 2.06-2.06.94zm10 10l.94 2.06.94-2.06 2.06-.94-2.06-.94-.94-2.06-.94 2.06-2.06.94z\"/><path d=\"M17.41 7.96l-1.37-1.37c-.4-.4-.92-.59-1.43-.59-.52 0-1.04.2-1.43.59L10.3 9.45l-7.72 7.72c-.78.78-.78 2.05 0 2.83L4 21.41c.39.39.9.59 1.41.59.51 0 1.02-.2 1.41-.59l7.78-7.78 2.81-2.81c.8-.78.8-2.07 0-2.86zM5.41 20L4 18.59l7.72-7.72 1.47 1.35L5.41 20z\"/>\n",
              "  </svg>\n",
              "      </button>\n",
              "      \n",
              "  <style>\n",
              "    .colab-df-container {\n",
              "      display:flex;\n",
              "      flex-wrap:wrap;\n",
              "      gap: 12px;\n",
              "    }\n",
              "\n",
              "    .colab-df-convert {\n",
              "      background-color: #E8F0FE;\n",
              "      border: none;\n",
              "      border-radius: 50%;\n",
              "      cursor: pointer;\n",
              "      display: none;\n",
              "      fill: #1967D2;\n",
              "      height: 32px;\n",
              "      padding: 0 0 0 0;\n",
              "      width: 32px;\n",
              "    }\n",
              "\n",
              "    .colab-df-convert:hover {\n",
              "      background-color: #E2EBFA;\n",
              "      box-shadow: 0px 1px 2px rgba(60, 64, 67, 0.3), 0px 1px 3px 1px rgba(60, 64, 67, 0.15);\n",
              "      fill: #174EA6;\n",
              "    }\n",
              "\n",
              "    [theme=dark] .colab-df-convert {\n",
              "      background-color: #3B4455;\n",
              "      fill: #D2E3FC;\n",
              "    }\n",
              "\n",
              "    [theme=dark] .colab-df-convert:hover {\n",
              "      background-color: #434B5C;\n",
              "      box-shadow: 0px 1px 3px 1px rgba(0, 0, 0, 0.15);\n",
              "      filter: drop-shadow(0px 1px 2px rgba(0, 0, 0, 0.3));\n",
              "      fill: #FFFFFF;\n",
              "    }\n",
              "  </style>\n",
              "\n",
              "      <script>\n",
              "        const buttonEl =\n",
              "          document.querySelector('#df-366a5468-9819-4300-8b83-130f87434576 button.colab-df-convert');\n",
              "        buttonEl.style.display =\n",
              "          google.colab.kernel.accessAllowed ? 'block' : 'none';\n",
              "\n",
              "        async function convertToInteractive(key) {\n",
              "          const element = document.querySelector('#df-366a5468-9819-4300-8b83-130f87434576');\n",
              "          const dataTable =\n",
              "            await google.colab.kernel.invokeFunction('convertToInteractive',\n",
              "                                                     [key], {});\n",
              "          if (!dataTable) return;\n",
              "\n",
              "          const docLinkHtml = 'Like what you see? Visit the ' +\n",
              "            '<a target=\"_blank\" href=https://colab.research.google.com/notebooks/data_table.ipynb>data table notebook</a>'\n",
              "            + ' to learn more about interactive tables.';\n",
              "          element.innerHTML = '';\n",
              "          dataTable['output_type'] = 'display_data';\n",
              "          await google.colab.output.renderOutput(dataTable, element);\n",
              "          const docLink = document.createElement('div');\n",
              "          docLink.innerHTML = docLinkHtml;\n",
              "          element.appendChild(docLink);\n",
              "        }\n",
              "      </script>\n",
              "    </div>\n",
              "  </div>\n",
              "  "
            ]
          },
          "metadata": {},
          "execution_count": 42
        }
      ]
    },
    {
      "cell_type": "markdown",
      "source": [
        "#to drop"
      ],
      "metadata": {
        "id": "q976KLCf3R0L"
      }
    },
    {
      "cell_type": "code",
      "source": [
        "nv2.columns"
      ],
      "metadata": {
        "colab": {
          "base_uri": "https://localhost:8080/"
        },
        "id": "Sx0xoGQm3XCr",
        "outputId": "522152a8-6467-4906-cfe7-6777eadeadb6"
      },
      "execution_count": 43,
      "outputs": [
        {
          "output_type": "execute_result",
          "data": {
            "text/plain": [
              "Index(['Appliances', 'T1', 'RH_1', 'T2', 'RH_2', 'T3', 'RH_3', 'T4', 'RH_4',\n",
              "       'T5', 'RH_5', 'T6', 'RH_6', 'T7', 'RH_7', 'T8', 'RH_8', 'T9', 'RH_9',\n",
              "       'T_out', 'Press_mm_hg', 'RH_out', 'Windspeed', 'Visibility',\n",
              "       'Tdewpoint', 'rv1', 'rv2'],\n",
              "      dtype='object')"
            ]
          },
          "metadata": {},
          "execution_count": 43
        }
      ]
    },
    {
      "cell_type": "markdown",
      "source": [
        "#normalize dataset using minimaxscalar"
      ],
      "metadata": {
        "id": "__YBVqIg3vvx"
      }
    },
    {
      "cell_type": "code",
      "source": [
        "from sklearn.preprocessing import MinMaxScaler\n"
      ],
      "metadata": {
        "id": "VPpUDIzk33bD"
      },
      "execution_count": 46,
      "outputs": []
    },
    {
      "cell_type": "code",
      "source": [
        "scaler = MinMaxScaler()"
      ],
      "metadata": {
        "id": "QYhuv3MZ4f3r"
      },
      "execution_count": 47,
      "outputs": []
    },
    {
      "cell_type": "code",
      "source": [
        "normalize = pd.DataFrame(scaler.fit_transform(nv2), columns = nv2.columns)\n",
        "features = normalize.drop(columns = ['Appliances'])\n",
        "features.columns"
      ],
      "metadata": {
        "colab": {
          "base_uri": "https://localhost:8080/"
        },
        "id": "_qmw3Y8X4xtU",
        "outputId": "703e699f-3a34-4234-8402-d978f58711f6"
      },
      "execution_count": 55,
      "outputs": [
        {
          "output_type": "execute_result",
          "data": {
            "text/plain": [
              "Index(['T1', 'RH_1', 'T2', 'RH_2', 'T3', 'RH_3', 'T4', 'RH_4', 'T5', 'RH_5',\n",
              "       'T6', 'RH_6', 'T7', 'RH_7', 'T8', 'RH_8', 'T9', 'RH_9', 'T_out',\n",
              "       'Press_mm_hg', 'RH_out', 'Windspeed', 'Visibility', 'Tdewpoint', 'rv1',\n",
              "       'rv2'],\n",
              "      dtype='object')"
            ]
          },
          "metadata": {},
          "execution_count": 55
        }
      ]
    },
    {
      "cell_type": "code",
      "source": [
        "target = normalize['Appliances']\n",
        "target"
      ],
      "metadata": {
        "colab": {
          "base_uri": "https://localhost:8080/"
        },
        "id": "hLw7_Zbg6LfJ",
        "outputId": "d372d2b6-5a8d-4219-ed2e-d396a8b2a699"
      },
      "execution_count": 56,
      "outputs": [
        {
          "output_type": "execute_result",
          "data": {
            "text/plain": [
              "0        0.046729\n",
              "1        0.046729\n",
              "2        0.037383\n",
              "3        0.037383\n",
              "4        0.046729\n",
              "           ...   \n",
              "19730    0.084112\n",
              "19731    0.074766\n",
              "19732    0.242991\n",
              "19733    0.383178\n",
              "19734    0.392523\n",
              "Name: Appliances, Length: 19735, dtype: float64"
            ]
          },
          "metadata": {},
          "execution_count": 56
        }
      ]
    },
    {
      "cell_type": "markdown",
      "source": [
        "#to split data to train set and test set"
      ],
      "metadata": {
        "id": "aD3Xh3VI64mI"
      }
    },
    {
      "cell_type": "code",
      "source": [
        "from sklearn.model_selection import train_test_split"
      ],
      "metadata": {
        "id": "HhOSSP5Z6-RW"
      },
      "execution_count": 58,
      "outputs": []
    },
    {
      "cell_type": "code",
      "source": [
        "x_train, x_test, y_train, y_test = train_test_split(features, target, test_size = 0.3, random_state = 42)\n",
        "x_train, x_test, y_train, y_test"
      ],
      "metadata": {
        "colab": {
          "base_uri": "https://localhost:8080/"
        },
        "id": "RkvaWUe68BDD",
        "outputId": "f8e5b22d-646a-425b-ffa4-b5e726d598a2"
      },
      "execution_count": 59,
      "outputs": [
        {
          "output_type": "execute_result",
          "data": {
            "text/plain": [
              "(             T1      RH_1        T2      RH_2        T3      RH_3        T4  \\\n",
              " 9129   0.497360  0.236767  0.122850  0.565939  0.373878  0.303474  0.476577   \n",
              " 2453   0.286167  0.482616  0.188999  0.669978  0.217957  0.735317  0.270270   \n",
              " 9152   0.422386  0.230529  0.057427  0.606430  0.373878  0.338059  0.414414   \n",
              " 12694  0.560718  0.446840  0.280834  0.704002  0.514290  0.515189  0.540541   \n",
              " 16952  0.835269  0.422071  1.000000  0.318493  0.745383  0.459106  0.900901   \n",
              " ...         ...       ...       ...       ...       ...       ...       ...   \n",
              " 11284  0.524815  0.381892  0.239157  0.636236  0.481888  0.478268  0.576577   \n",
              " 11964  0.591341  0.458949  0.428883  0.607461  0.456962  0.582489  0.557658   \n",
              " 5390   0.369588  0.238785  0.152653  0.481582  0.240944  0.412370  0.279279   \n",
              " 860    0.527983  0.234933  0.315047  0.412016  0.332336  0.380122  0.540541   \n",
              " 15795  0.478705  0.294652  0.275503  0.509045  0.456962  0.365633  0.414414   \n",
              " \n",
              "            RH_4        T5      RH_5  ...        T9      RH_9     T_out  \\\n",
              " 9129   0.264760  0.408027  0.159533  ...  0.475893  0.376380  0.168810   \n",
              " 2453   0.691421  0.178691  0.333576  ...  0.240375  0.703504  0.262594   \n",
              " 9152   0.236449  0.378404  0.151639  ...  0.468262  0.409803  0.110397   \n",
              " 12694  0.486556  0.509317  0.424604  ...  0.561915  0.340784  0.444802   \n",
              " 16952  0.516432  0.748845  0.455819  ...  0.854318  0.633278  0.849946   \n",
              " ...         ...       ...       ...  ...       ...       ...       ...   \n",
              " 11284  0.517712  0.455805  0.250877  ...  0.568852  0.471578  0.468382   \n",
              " 11964  0.702518  0.417582  0.285310  ...  0.561915  0.625966  0.717042   \n",
              " 5390   0.325651  0.302914  0.161743  ...  0.312175  0.426325  0.126474   \n",
              " 860    0.341585  0.259914  0.245539  ...  0.375650  0.509106  0.227224   \n",
              " 15795  0.502490  0.369804  0.192086  ...  0.468262  0.500828  0.374598   \n",
              " \n",
              "        Press_mm_hg    RH_out  Windspeed  Visibility  Tdewpoint       rv1  \\\n",
              " 9129      0.862791  0.776316   0.142857    0.984615   0.192308  0.724554   \n",
              " 2453      0.836434  0.807018   0.142857    0.600000   0.342383  0.864041   \n",
              " 9152      0.853488  0.859649   0.095238    0.917949   0.158371  0.499502   \n",
              " 12694     0.559690  0.750000   0.119048    0.384615   0.558069  0.323173   \n",
              " 16952     0.530233  0.355263   0.142857    0.600000   0.787330  0.341060   \n",
              " ...            ...       ...        ...         ...        ...       ...   \n",
              " 11284     0.492248  0.706140   0.476190    0.600000   0.562594  0.910318   \n",
              " 11964     0.469767  0.552632   0.142857    0.600000   0.791855  0.698711   \n",
              " 5390      0.595349  0.828947   0.261905    0.948718   0.165913  0.381388   \n",
              " 860       0.831008  0.530702   0.095238    0.600000   0.114630  0.020909   \n",
              " 15795     0.682558  0.809211   0.071429    0.600000   0.495475  0.349076   \n",
              " \n",
              "             rv2  \n",
              " 9129   0.724554  \n",
              " 2453   0.864041  \n",
              " 9152   0.499502  \n",
              " 12694  0.323173  \n",
              " 16952  0.341060  \n",
              " ...         ...  \n",
              " 11284  0.910318  \n",
              " 11964  0.698711  \n",
              " 5390   0.381388  \n",
              " 860    0.020909  \n",
              " 15795  0.349076  \n",
              " \n",
              " [13814 rows x 26 columns],\n",
              "              T1      RH_1        T2      RH_2        T3      RH_3        T4  \\\n",
              " 8980   0.432946  0.230529  0.120669  0.525822  0.256730  0.380122  0.419820   \n",
              " 2754   0.538543  0.717641  0.377272  0.700066  0.368339  0.956224  0.489489   \n",
              " 9132   0.485744  0.233281  0.111461  0.564252  0.371109  0.300670  0.467568   \n",
              " 14359  0.485744  0.385561  0.566271  0.404255  0.401573  0.381679  0.656757   \n",
              " 8875   0.335093  0.223007  0.026411  0.552910  0.232635  0.356753  0.374775   \n",
              " ...         ...       ...       ...       ...       ...       ...       ...   \n",
              " 831    0.560718  0.300248  0.370487  0.412504  0.386895  0.576414  0.608709   \n",
              " 10993  0.518479  0.310063  0.225345  0.593214  0.481888  0.446799  0.464865   \n",
              " 11761  0.436818  0.340611  0.188999  0.633705  0.381356  0.403490  0.422523   \n",
              " 12364  0.550158  0.390973  0.334383  0.602774  0.481888  0.468453  0.576577   \n",
              " 11863  0.432946  0.420145  0.213230  0.688912  0.365570  0.482474  0.414414   \n",
              " \n",
              "            RH_4        T5      RH_5  ...        T9      RH_9     T_out  \\\n",
              " 8980   0.279129  0.312470  0.322900  ...  0.457856  0.408251  0.217578   \n",
              " 2754   0.567933  0.224346  0.426866  ...  0.145682  0.622241  0.247588   \n",
              " 9132   0.260350  0.408027  0.157503  ...  0.468262  0.377621  0.167203   \n",
              " 14359  0.323346  0.411212  0.202260  ...  0.561915  0.388797  0.445338   \n",
              " 8875   0.311851  0.244625  0.288467  ...  0.427680  0.477373  0.145766   \n",
              " ...         ...       ...       ...  ...       ...       ...       ...   \n",
              " 831    0.488263  0.264692  0.304506  ...  0.312175  0.507726  0.220257   \n",
              " 10993  0.495092  0.446249  0.264410  ...  0.561915  0.528422  0.439443   \n",
              " 11761  0.453692  0.378404  0.230779  ...  0.490114  0.356926  0.392283   \n",
              " 12364  0.554702  0.503583  0.237746  ...  0.620881  0.417770  0.494105   \n",
              " 11863  0.589273  0.378404  0.243810  ...  0.479709  0.507726  0.583065   \n",
              " \n",
              "        Press_mm_hg    RH_out  Windspeed  Visibility  Tdewpoint       rv1  \\\n",
              " 8980      0.920930  0.846491   0.166667    0.953846   0.298643  0.512428   \n",
              " 2754      0.588372  0.868421   0.214286    0.400000   0.352941  0.469466   \n",
              " 9132      0.858140  0.776316   0.142857    0.984615   0.190045  0.002761   \n",
              " 14359     0.895349  0.616228   0.369048    0.600000   0.466817  0.205799   \n",
              " 8875      0.938372  0.912281   0.285714    0.735897   0.233032  0.215015   \n",
              " ...            ...       ...        ...         ...        ...       ...   \n",
              " 831       0.841860  0.756579   0.107143    0.430769   0.251131  0.910115   \n",
              " 10993     0.422093  0.651316   0.583333    0.600000   0.486425  0.975531   \n",
              " 11761     0.665504  0.796053   0.083333    0.969231   0.515083  0.792703   \n",
              " 12364     0.545736  0.596491   0.642857    0.600000   0.520362  0.608307   \n",
              " 11863     0.530620  0.734649   0.500000    0.505128   0.740573  0.198911   \n",
              " \n",
              "             rv2  \n",
              " 8980   0.512428  \n",
              " 2754   0.469466  \n",
              " 9132   0.002761  \n",
              " 14359  0.205799  \n",
              " 8875   0.215015  \n",
              " ...         ...  \n",
              " 831    0.910115  \n",
              " 10993  0.975531  \n",
              " 11761  0.792703  \n",
              " 12364  0.608307  \n",
              " 11863  0.198911  \n",
              " \n",
              " [5921 rows x 26 columns],\n",
              " 9129     0.037383\n",
              " 2453     0.018692\n",
              " 9152     0.028037\n",
              " 12694    0.102804\n",
              " 16952    0.037383\n",
              "            ...   \n",
              " 11284    0.046729\n",
              " 11964    0.102804\n",
              " 5390     0.018692\n",
              " 860      0.065421\n",
              " 15795    0.112150\n",
              " Name: Appliances, Length: 13814, dtype: float64,\n",
              " 8980     0.028037\n",
              " 2754     0.074766\n",
              " 9132     0.037383\n",
              " 14359    0.037383\n",
              " 8875     0.056075\n",
              "            ...   \n",
              " 831      0.224299\n",
              " 10993    0.046729\n",
              " 11761    0.037383\n",
              " 12364    0.093458\n",
              " 11863    0.037383\n",
              " Name: Appliances, Length: 5921, dtype: float64)"
            ]
          },
          "metadata": {},
          "execution_count": 59
        }
      ]
    },
    {
      "cell_type": "code",
      "source": [
        "from sklearn.linear_model import LinearRegression"
      ],
      "metadata": {
        "id": "KFXaLG_--RsA"
      },
      "execution_count": 60,
      "outputs": []
    },
    {
      "cell_type": "code",
      "source": [
        "linear_model = LinearRegression()\n",
        "#fix the model to the training dataset\n",
        "linear_model.fit(x_train,y_train)"
      ],
      "metadata": {
        "colab": {
          "base_uri": "https://localhost:8080/"
        },
        "id": "g093_e5O-mP7",
        "outputId": "3b702672-e9d2-4f1b-d0b2-cdd9ab797a0d"
      },
      "execution_count": 61,
      "outputs": [
        {
          "output_type": "execute_result",
          "data": {
            "text/plain": [
              "LinearRegression()"
            ]
          },
          "metadata": {},
          "execution_count": 61
        }
      ]
    },
    {
      "cell_type": "code",
      "source": [
        "#make prediction\n",
        "y_preds = linear_model.predict(x_test)\n",
        "y_preds"
      ],
      "metadata": {
        "colab": {
          "base_uri": "https://localhost:8080/"
        },
        "id": "KKAVJAEt-_8g",
        "outputId": "b120eda7-aeca-41bb-d924-fb00336ed45d"
      },
      "execution_count": 62,
      "outputs": [
        {
          "output_type": "execute_result",
          "data": {
            "text/plain": [
              "array([0.03322207, 0.24411599, 0.03400024, ..., 0.06844707, 0.10032325,\n",
              "       0.05722198])"
            ]
          },
          "metadata": {},
          "execution_count": 62
        }
      ]
    },
    {
      "cell_type": "markdown",
      "source": [
        "#to determine the mean absolute errors "
      ],
      "metadata": {
        "id": "fOGjDjzN_Me3"
      }
    },
    {
      "cell_type": "code",
      "source": [
        "from sklearn.metrics import mean_absolute_error\n",
        "mae = mean_absolute_error(y_test, y_preds).round(2)\n",
        "mae"
      ],
      "metadata": {
        "colab": {
          "base_uri": "https://localhost:8080/"
        },
        "id": "twKTnmcn_WrY",
        "outputId": "b49e1d87-e8ca-4a92-c3f5-9e297b3fa411"
      },
      "execution_count": 63,
      "outputs": [
        {
          "output_type": "execute_result",
          "data": {
            "text/plain": [
              "0.05"
            ]
          },
          "metadata": {},
          "execution_count": 63
        }
      ]
    },
    {
      "cell_type": "markdown",
      "source": [
        "#residual sum of square"
      ],
      "metadata": {
        "id": "lzWdXpJc__bb"
      }
    },
    {
      "cell_type": "code",
      "source": [
        "rss = np.sum(np.square(y_test - y_preds)).round(2)\n",
        "rss"
      ],
      "metadata": {
        "colab": {
          "base_uri": "https://localhost:8080/"
        },
        "id": "qTs-X-Y6Aeyf",
        "outputId": "c656bbb6-26ca-4b56-af56-6d35379d19c0"
      },
      "execution_count": 64,
      "outputs": [
        {
          "output_type": "execute_result",
          "data": {
            "text/plain": [
              "45.35"
            ]
          },
          "metadata": {},
          "execution_count": 64
        }
      ]
    },
    {
      "cell_type": "markdown",
      "source": [
        "#find rsquare or coefficient of determination"
      ],
      "metadata": {
        "id": "P_ohVYJ8BMYw"
      }
    },
    {
      "cell_type": "code",
      "source": [
        "from sklearn.metrics import r2_score"
      ],
      "metadata": {
        "id": "gd8TkfZEBatt"
      },
      "execution_count": 65,
      "outputs": []
    },
    {
      "cell_type": "code",
      "source": [
        "r2_score = r2_score(y_test, y_preds).round(2)\n",
        "r2_score"
      ],
      "metadata": {
        "colab": {
          "base_uri": "https://localhost:8080/"
        },
        "id": "HGHmrP9fBnGt",
        "outputId": "d35b91f1-e0df-47a4-f955-8a79e3aa15d9"
      },
      "execution_count": 70,
      "outputs": [
        {
          "output_type": "execute_result",
          "data": {
            "text/plain": [
              "0.15"
            ]
          },
          "metadata": {},
          "execution_count": 70
        }
      ]
    },
    {
      "cell_type": "markdown",
      "source": [
        "#which feature has the lowest and highest"
      ],
      "metadata": {
        "id": "pFYjpHrgC7WB"
      }
    },
    {
      "cell_type": "code",
      "source": [
        "def get_weights_df(model, feat, columns_name):\n",
        "  #This function returns the weight of every features\n",
        "    weights = pd.Series(model.coef_, feat.columns).sort_values()\n",
        "    weights_df = pd.DataFrame(weights).reset_index()\n",
        "    weights_df.columns = ['Features', columns_name]\n",
        "    weights_df[columns_name].round(3)\n",
        "    return weights_df"
      ],
      "metadata": {
        "id": "XuUAYYHBDHL5"
      },
      "execution_count": 78,
      "outputs": []
    },
    {
      "cell_type": "code",
      "source": [
        "linear_model_weights = get_weights_df(linear_model, x_train, 'linear_model_weights')\n",
        "linear_model_weights.sort_values"
      ],
      "metadata": {
        "colab": {
          "base_uri": "https://localhost:8080/"
        },
        "id": "8u_Kf1nCFWYD",
        "outputId": "3e2f819b-0c70-4e9b-b0c8-015258e48e24"
      },
      "execution_count": 86,
      "outputs": [
        {
          "output_type": "execute_result",
          "data": {
            "text/plain": [
              "<bound method DataFrame.sort_values of        Features  linear_model_weights\n",
              "0          RH_2             -0.456698\n",
              "1         T_out             -0.321860\n",
              "2            T2             -0.236178\n",
              "3            T9             -0.189941\n",
              "4          RH_8             -0.157595\n",
              "5        RH_out             -0.077671\n",
              "6          RH_7             -0.044614\n",
              "7          RH_9             -0.039800\n",
              "8            T5             -0.015657\n",
              "9            T1             -0.003281\n",
              "10          rv1              0.000770\n",
              "11          rv2              0.000770\n",
              "12  Press_mm_hg              0.006839\n",
              "13           T7              0.010319\n",
              "14   Visibility              0.012307\n",
              "15         RH_5              0.016006\n",
              "16         RH_4              0.026386\n",
              "17           T4              0.028981\n",
              "18    Windspeed              0.029183\n",
              "19         RH_6              0.038049\n",
              "20         RH_3              0.096048\n",
              "21           T8              0.101995\n",
              "22    Tdewpoint              0.117758\n",
              "23           T6              0.236425\n",
              "24           T3              0.290627\n",
              "25         RH_1              0.553547>"
            ]
          },
          "metadata": {},
          "execution_count": 86
        }
      ]
    },
    {
      "cell_type": "markdown",
      "source": [
        "#to get the lowest"
      ],
      "metadata": {
        "id": "1E9Pcn_hHeAR"
      }
    },
    {
      "cell_type": "code",
      "source": [
        "linear_model_weights.min()"
      ],
      "metadata": {
        "colab": {
          "base_uri": "https://localhost:8080/"
        },
        "id": "dFID1w2FHi2A",
        "outputId": "ef8d5c28-d8eb-4a2f-99ae-32bfd4467f02"
      },
      "execution_count": 87,
      "outputs": [
        {
          "output_type": "execute_result",
          "data": {
            "text/plain": [
              "Features                Press_mm_hg\n",
              "linear_model_weights      -0.456698\n",
              "dtype: object"
            ]
          },
          "metadata": {},
          "execution_count": 87
        }
      ]
    },
    {
      "cell_type": "markdown",
      "source": [
        "#to get the highest"
      ],
      "metadata": {
        "id": "jLtJ4tg9IPNg"
      }
    },
    {
      "cell_type": "code",
      "source": [
        "linear_model_weights.max()"
      ],
      "metadata": {
        "colab": {
          "base_uri": "https://localhost:8080/"
        },
        "id": "gUdk8KvSISi3",
        "outputId": "0060a745-3f34-471f-c958-3b9cd7332ffe"
      },
      "execution_count": 88,
      "outputs": [
        {
          "output_type": "execute_result",
          "data": {
            "text/plain": [
              "Features                     rv2\n",
              "linear_model_weights    0.553547\n",
              "dtype: object"
            ]
          },
          "metadata": {},
          "execution_count": 88
        }
      ]
    }
  ]
}